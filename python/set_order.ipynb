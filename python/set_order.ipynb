{
 "cells": [
  {
   "cell_type": "code",
   "execution_count": 30,
   "metadata": {},
   "outputs": [],
   "source": [
    "exam = [\n",
    "    {'num': 1, 'name': '김철수', 'kor': 90, 'eng': 80, 'math': 85, 'total': 255, 'avg': 85.0, 'order': 0},\n",
    "    {'num': 2, 'name': '박제동', 'kor': 90, 'eng': 85, 'math': 90, 'total': 265, 'avg': 88.3, 'order': 0},\n",
    "    {'num': 3, 'name': '홍길동', 'kor': 80, 'eng': 80, 'math': 80, 'total': 240, 'avg': 80.0, 'order': 0},\n",
    "]"
   ]
  },
  {
   "cell_type": "code",
   "execution_count": 31,
   "metadata": {},
   "outputs": [],
   "source": [
    "exam.append({'num': 4, 'name': '윤성하', 'kor': 90, 'eng': 85, 'math': 90, 'total': 265, 'avg': 88.3, 'order': 0})\n",
    "exam.append({'num': 5, 'name': '김준영', 'kor': 90, 'eng': 85, 'math': 90, 'total': 265, 'avg': 88.3, 'order': 0})\n",
    "exam.append({'num': 6, 'name': '김영희', 'kor': 90, 'eng': 80, 'math': 85, 'total': 255, 'avg': 85.0, 'order': 0})"
   ]
  },
  {
   "cell_type": "code",
   "execution_count": 32,
   "metadata": {},
   "outputs": [],
   "source": [
    "# 기존 배열의 순서가 달라져도 상관이 없다면\n",
    "def set_order_lambda_modify(exam):\n",
    "    exam = sorted(exam, key=lambda k: k['avg'], reverse=True) \n",
    "    for i in range(0, len(exam)):\n",
    "        if i != 0 and exam[i]['avg'] == exam[i-1]['avg']:\n",
    "            exam[i]['order'] = exam[i-1]['order']\n",
    "        else:\n",
    "            exam[i]['order'] = i+1\n",
    "    return exam"
   ]
  },
  {
   "cell_type": "code",
   "execution_count": 33,
   "metadata": {},
   "outputs": [
    {
     "name": "stdout",
     "output_type": "stream",
     "text": [
      "{'num': 2, 'name': '박제동', 'kor': 90, 'eng': 85, 'math': 90, 'total': 265, 'avg': 88.3, 'order': 1}\n",
      "{'num': 4, 'name': '윤성하', 'kor': 90, 'eng': 85, 'math': 90, 'total': 265, 'avg': 88.3, 'order': 1}\n",
      "{'num': 5, 'name': '김준영', 'kor': 90, 'eng': 85, 'math': 90, 'total': 265, 'avg': 88.3, 'order': 1}\n",
      "{'num': 1, 'name': '김철수', 'kor': 90, 'eng': 80, 'math': 85, 'total': 255, 'avg': 85.0, 'order': 4}\n",
      "{'num': 6, 'name': '김영희', 'kor': 90, 'eng': 80, 'math': 85, 'total': 255, 'avg': 85.0, 'order': 4}\n",
      "{'num': 3, 'name': '홍길동', 'kor': 80, 'eng': 80, 'math': 80, 'total': 240, 'avg': 80.0, 'order': 6}\n"
     ]
    }
   ],
   "source": [
    "for elem in set_order_lambda_modify(exam):\n",
    "    print(elem)"
   ]
  },
  {
   "cell_type": "code",
   "execution_count": 20,
   "metadata": {},
   "outputs": [],
   "source": [
    "# exam.append({'num': 4, 'name': '윤성하', 'kor': 90, 'eng': 85, 'math': 90, 'total': 265, 'avg': 88.3, 'order': 0})\n",
    "\n",
    "# 루프로만 구현한다면\n",
    "def set_order_loop(exam):\n",
    "    for i in range(0, len(exam)):\n",
    "        exam[i]['order'] = 1\n",
    "        for j in range(0, len(exam)):\n",
    "            if exam[i]['avg'] < exam[j]['avg']:\n",
    "                exam[i]['order'] += 1\n",
    "    return exam"
   ]
  },
  {
   "cell_type": "code",
   "execution_count": 23,
   "metadata": {},
   "outputs": [
    {
     "name": "stdout",
     "output_type": "stream",
     "text": [
      "{'num': 1, 'name': '김철수', 'kor': 90, 'eng': 80, 'math': 85, 'total': 255, 'avg': 85.0, 'order': 3}\n",
      "{'num': 2, 'name': '박제동', 'kor': 90, 'eng': 85, 'math': 90, 'total': 265, 'avg': 88.3, 'order': 1}\n",
      "{'num': 3, 'name': '홍길동', 'kor': 80, 'eng': 80, 'math': 80, 'total': 240, 'avg': 80.0, 'order': 4}\n",
      "{'num': 4, 'name': '윤성하', 'kor': 90, 'eng': 85, 'math': 90, 'total': 265, 'avg': 88.3, 'order': 1}\n"
     ]
    }
   ],
   "source": [
    "for elem in set_order_loop(exam):\n",
    "    print(elem)"
   ]
  },
  {
   "cell_type": "code",
   "execution_count": 30,
   "metadata": {},
   "outputs": [],
   "source": [
    "# 기존 배열의 순서가 유지되어야 한다면\n",
    "# 이 경우엔 동점자 처리가 문제\n",
    "# def set_order(exam):\n",
    "#     order_list = {elem: for num in sorted(list(set([elem['avg'] for elem in exam])), reverse=True)}\n",
    "#     for elem in exam:\n",
    "#         for i in range(0, len(order_list)):\n",
    "#             if elem['avg'] == order_list[i]:\n",
    "#                 elem['order'] = i+1 \n",
    "#     return exam"
   ]
  },
  {
   "cell_type": "code",
   "execution_count": null,
   "metadata": {},
   "outputs": [],
   "source": []
  }
 ],
 "metadata": {
  "kernelspec": {
   "display_name": "Python 3",
   "language": "python",
   "name": "python3"
  },
  "language_info": {
   "codemirror_mode": {
    "name": "ipython",
    "version": 3
   },
   "file_extension": ".py",
   "mimetype": "text/x-python",
   "name": "python",
   "nbconvert_exporter": "python",
   "pygments_lexer": "ipython3",
   "version": "3.7.0"
  }
 },
 "nbformat": 4,
 "nbformat_minor": 2
}
