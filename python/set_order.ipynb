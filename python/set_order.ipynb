{
 "cells": [
  {
   "cell_type": "code",
   "execution_count": 1,
   "metadata": {},
   "outputs": [],
   "source": [
    "exam = [\n",
    "    {'num': 1, 'name': '김철수', 'kor': 90, 'eng': 80, 'math': 85, 'total': 255, 'avg': 85.0, 'order': 0},\n",
    "    {'num': 2, 'name': '박제동', 'kor': 90, 'eng': 85, 'math': 90, 'total': 265, 'avg': 88.3, 'order': 0},\n",
    "    {'num': 3, 'name': '홍길동', 'kor': 80, 'eng': 80, 'math': 80, 'total': 240, 'avg': 80.0, 'order': 0},\n",
    "]"
   ]
  },
  {
   "cell_type": "code",
   "execution_count": 28,
   "metadata": {},
   "outputs": [],
   "source": [
    "# 기존 배열의 순서가 달라져도 상관이 없다면\n",
    "def set_order(exam):\n",
    "    exam = sorted(exam, key=lambda k: k['avg'], reverse=True) \n",
    "    for i in range(0, len(exam)):\n",
    "        exam[i]['order'] = i+1\n",
    "    return exam"
   ]
  },
  {
   "cell_type": "code",
   "execution_count": 29,
   "metadata": {},
   "outputs": [
    {
     "data": {
      "text/plain": [
       "[{'num': 2,\n",
       "  'name': '박제동',\n",
       "  'kor': 90,\n",
       "  'eng': 85,\n",
       "  'math': 90,\n",
       "  'total': 265,\n",
       "  'avg': 88.3,\n",
       "  'order': 1},\n",
       " {'num': 1,\n",
       "  'name': '김철수',\n",
       "  'kor': 90,\n",
       "  'eng': 80,\n",
       "  'math': 85,\n",
       "  'total': 255,\n",
       "  'avg': 85.0,\n",
       "  'order': 2},\n",
       " {'num': 3,\n",
       "  'name': '홍길동',\n",
       "  'kor': 80,\n",
       "  'eng': 80,\n",
       "  'math': 80,\n",
       "  'total': 240,\n",
       "  'avg': 80.0,\n",
       "  'order': 3}]"
      ]
     },
     "execution_count": 29,
     "metadata": {},
     "output_type": "execute_result"
    }
   ],
   "source": [
    "set_order(exam)"
   ]
  },
  {
   "cell_type": "code",
   "execution_count": 43,
   "metadata": {},
   "outputs": [],
   "source": [
    "# 기존 배열의 순서가 유지되어야 한다면\n",
    "def set_order(exam):\n",
    "    order_list = sorted([elem['avg'] for elem in exam], reverse=True) \n",
    "    for elem in exam:\n",
    "        for i in range(0, len(order_list)):\n",
    "            if elem['avg'] == order_list[i]:\n",
    "                elem['order'] = i+1 \n",
    "    return exam"
   ]
  },
  {
   "cell_type": "code",
   "execution_count": 44,
   "metadata": {},
   "outputs": [
    {
     "data": {
      "text/plain": [
       "[{'num': 1,\n",
       "  'name': '김철수',\n",
       "  'kor': 90,\n",
       "  'eng': 80,\n",
       "  'math': 85,\n",
       "  'total': 255,\n",
       "  'avg': 85.0,\n",
       "  'order': 2},\n",
       " {'num': 2,\n",
       "  'name': '박제동',\n",
       "  'kor': 90,\n",
       "  'eng': 85,\n",
       "  'math': 90,\n",
       "  'total': 265,\n",
       "  'avg': 88.3,\n",
       "  'order': 1},\n",
       " {'num': 3,\n",
       "  'name': '홍길동',\n",
       "  'kor': 80,\n",
       "  'eng': 80,\n",
       "  'math': 80,\n",
       "  'total': 240,\n",
       "  'avg': 80.0,\n",
       "  'order': 3}]"
      ]
     },
     "execution_count": 44,
     "metadata": {},
     "output_type": "execute_result"
    }
   ],
   "source": [
    "set_order(exam)"
   ]
  },
  {
   "cell_type": "code",
   "execution_count": 50,
   "metadata": {},
   "outputs": [],
   "source": [
    "# 루프로만 구현한다면\n",
    "def set_order(exam):\n",
    "    for i in range(0, len(exam)):\n",
    "        exam[i]['order'] = 1\n",
    "        for j in range(0, len(exam)):\n",
    "            if exam[i]['avg'] < exam[j]['avg']:\n",
    "                exam[i]['order'] += 1\n",
    "    return exam"
   ]
  },
  {
   "cell_type": "code",
   "execution_count": 51,
   "metadata": {},
   "outputs": [
    {
     "data": {
      "text/plain": [
       "[{'num': 1,\n",
       "  'name': '김철수',\n",
       "  'kor': 90,\n",
       "  'eng': 80,\n",
       "  'math': 85,\n",
       "  'total': 255,\n",
       "  'avg': 86.0,\n",
       "  'order': 2},\n",
       " {'num': 2,\n",
       "  'name': '박제동',\n",
       "  'kor': 90,\n",
       "  'eng': 85,\n",
       "  'math': 90,\n",
       "  'total': 265,\n",
       "  'avg': 88.3,\n",
       "  'order': 1},\n",
       " {'num': 3,\n",
       "  'name': '홍길동',\n",
       "  'kor': 80,\n",
       "  'eng': 80,\n",
       "  'math': 80,\n",
       "  'total': 240,\n",
       "  'avg': 82.0,\n",
       "  'order': 3}]"
      ]
     },
     "execution_count": 51,
     "metadata": {},
     "output_type": "execute_result"
    }
   ],
   "source": [
    "set_order(exam)"
   ]
  },
  {
   "cell_type": "code",
   "execution_count": null,
   "metadata": {},
   "outputs": [],
   "source": []
  }
 ],
 "metadata": {
  "kernelspec": {
   "display_name": "Python 3",
   "language": "python",
   "name": "python3"
  },
  "language_info": {
   "codemirror_mode": {
    "name": "ipython",
    "version": 3
   },
   "file_extension": ".py",
   "mimetype": "text/x-python",
   "name": "python",
   "nbconvert_exporter": "python",
   "pygments_lexer": "ipython3",
   "version": "3.7.0"
  }
 },
 "nbformat": 4,
 "nbformat_minor": 2
}
